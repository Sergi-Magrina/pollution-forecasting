{
 "cells": [
  {
   "cell_type": "code",
   "execution_count": 5,
   "id": "1f6d24c7",
   "metadata": {},
   "outputs": [
    {
     "data": {
      "text/plain": [
       "(          ds           y\n",
       " 0 2010-01-01  129.000000\n",
       " 1 2010-01-02  144.333333\n",
       " 2 2010-01-03   78.375000\n",
       " 3 2010-01-04   29.291667\n",
       " 4 2010-01-05   43.541667,\n",
       " (60, 2))"
      ]
     },
     "execution_count": 5,
     "metadata": {},
     "output_type": "execute_result"
    }
   ],
   "source": [
    "import pandas as pd\n",
    "import numpy as np\n",
    "\n",
    "daily = pd.read_csv(\"../data/clean_pm25.csv\", parse_dates=[\"datetime\"], index_col=\"datetime\")\n",
    "df_all = daily.reset_index().rename(columns={\"datetime\": \"ds\", \"pm25\": \"y\"})\n",
    "H = 60\n",
    "df_train = df_all.iloc[:-H].copy()\n",
    "df_test  = df_all.iloc[-H:].copy()\n",
    "\n",
    "df_train.head(), df_test.shape\n"
   ]
  },
  {
   "cell_type": "code",
   "execution_count": 7,
   "id": "7ca5bb2e",
   "metadata": {},
   "outputs": [
    {
     "name": "stdout",
     "output_type": "stream",
     "text": [
      "prophet version: 1.1.5\n",
      "prophet module path: c:\\Users\\sergi_nyo0upt\\OneDrive\\Documents\\Projects\\pollution-forecasting\\.venv\\Lib\\site-packages\\prophet\\__init__.py\n",
      "Prophet object: <class 'prophet.forecaster.Prophet'>\n",
      "Prophet() construction failed: AttributeError(\"'Prophet' object has no attribute 'stan_backend'\")\n"
     ]
    }
   ],
   "source": [
    "import sys, pkgutil, importlib, inspect\n",
    "\n",
    "# 1) Where is \"prophet\" coming from?\n",
    "import prophet\n",
    "print(\"prophet version:\", getattr(prophet, \"__version__\", \"unknown\"))\n",
    "print(\"prophet module path:\", prophet.__file__)\n",
    "\n",
    "# 2) What is Prophet?\n",
    "from prophet import Prophet\n",
    "print(\"Prophet object:\", Prophet)\n",
    "\n",
    "# 3) Sanity: try constructing a bare model (should NOT error)\n",
    "try:\n",
    "    _m = Prophet()\n",
    "    print(\"Prophet() constructed OK.\")\n",
    "except Exception as e:\n",
    "    print(\"Prophet() construction failed:\", repr(e))\n"
   ]
  },
  {
   "cell_type": "code",
   "execution_count": 6,
   "id": "dbad26b3",
   "metadata": {},
   "outputs": [
    {
     "ename": "AttributeError",
     "evalue": "'Prophet' object has no attribute 'stan_backend'",
     "output_type": "error",
     "traceback": [
      "\u001b[31m---------------------------------------------------------------------------\u001b[39m",
      "\u001b[31mAttributeError\u001b[39m                            Traceback (most recent call last)",
      "\u001b[36mCell\u001b[39m\u001b[36m \u001b[39m\u001b[32mIn[6]\u001b[39m\u001b[32m, line 9\u001b[39m\n\u001b[32m      6\u001b[39m     mask = y_true != \u001b[32m0\u001b[39m\n\u001b[32m      7\u001b[39m     \u001b[38;5;28;01mreturn\u001b[39;00m (np.abs((y_true[mask] - y_pred[mask]) / y_true[mask]).mean()) * \u001b[32m100\u001b[39m\n\u001b[32m----> \u001b[39m\u001b[32m9\u001b[39m m_base = \u001b[43mProphet\u001b[49m\u001b[43m(\u001b[49m\n\u001b[32m     10\u001b[39m \u001b[43m    \u001b[49m\u001b[43mdaily_seasonality\u001b[49m\u001b[43m=\u001b[49m\u001b[38;5;28;43;01mFalse\u001b[39;49;00m\u001b[43m,\u001b[49m\n\u001b[32m     11\u001b[39m \u001b[43m    \u001b[49m\u001b[43mweekly_seasonality\u001b[49m\u001b[43m=\u001b[49m\u001b[38;5;28;43;01mTrue\u001b[39;49;00m\u001b[43m,\u001b[49m\n\u001b[32m     12\u001b[39m \u001b[43m    \u001b[49m\u001b[43myearly_seasonality\u001b[49m\u001b[43m=\u001b[49m\u001b[38;5;28;43;01mTrue\u001b[39;49;00m\u001b[43m,\u001b[49m\n\u001b[32m     13\u001b[39m \u001b[43m    \u001b[49m\u001b[43mchangepoint_prior_scale\u001b[49m\u001b[43m=\u001b[49m\u001b[32;43m0.2\u001b[39;49m\u001b[43m,\u001b[49m\n\u001b[32m     14\u001b[39m \u001b[43m)\u001b[49m\n\u001b[32m     15\u001b[39m m_base.fit(df_train[[\u001b[33m\"\u001b[39m\u001b[33mds\u001b[39m\u001b[33m\"\u001b[39m,\u001b[33m\"\u001b[39m\u001b[33my\u001b[39m\u001b[33m\"\u001b[39m]])\n\u001b[32m     17\u001b[39m fcst_test = m_base.predict(df_test[[\u001b[33m\"\u001b[39m\u001b[33mds\u001b[39m\u001b[33m\"\u001b[39m]])\n",
      "\u001b[36mFile \u001b[39m\u001b[32mc:\\Users\\sergi_nyo0upt\\OneDrive\\Documents\\Projects\\pollution-forecasting\\.venv\\Lib\\site-packages\\prophet\\forecaster.py:155\u001b[39m, in \u001b[36mProphet.__init__\u001b[39m\u001b[34m(self, growth, changepoints, n_changepoints, changepoint_range, yearly_seasonality, weekly_seasonality, daily_seasonality, holidays, seasonality_mode, seasonality_prior_scale, holidays_prior_scale, changepoint_prior_scale, mcmc_samples, interval_width, uncertainty_samples, stan_backend, scaling, holidays_mode)\u001b[39m\n\u001b[32m    153\u001b[39m \u001b[38;5;28mself\u001b[39m.fit_kwargs = {}\n\u001b[32m    154\u001b[39m \u001b[38;5;28mself\u001b[39m.validate_inputs()\n\u001b[32m--> \u001b[39m\u001b[32m155\u001b[39m \u001b[38;5;28;43mself\u001b[39;49m\u001b[43m.\u001b[49m\u001b[43m_load_stan_backend\u001b[49m\u001b[43m(\u001b[49m\u001b[43mstan_backend\u001b[49m\u001b[43m)\u001b[49m\n",
      "\u001b[36mFile \u001b[39m\u001b[32mc:\\Users\\sergi_nyo0upt\\OneDrive\\Documents\\Projects\\pollution-forecasting\\.venv\\Lib\\site-packages\\prophet\\forecaster.py:168\u001b[39m, in \u001b[36mProphet._load_stan_backend\u001b[39m\u001b[34m(self, stan_backend)\u001b[39m\n\u001b[32m    165\u001b[39m \u001b[38;5;28;01melse\u001b[39;00m:\n\u001b[32m    166\u001b[39m     \u001b[38;5;28mself\u001b[39m.stan_backend = StanBackendEnum.get_backend_class(stan_backend)()\n\u001b[32m--> \u001b[39m\u001b[32m168\u001b[39m logger.debug(\u001b[33m\"\u001b[39m\u001b[33mLoaded stan backend: \u001b[39m\u001b[38;5;132;01m%s\u001b[39;00m\u001b[33m\"\u001b[39m, \u001b[38;5;28;43mself\u001b[39;49m\u001b[43m.\u001b[49m\u001b[43mstan_backend\u001b[49m.get_type())\n",
      "\u001b[31mAttributeError\u001b[39m: 'Prophet' object has no attribute 'stan_backend'"
     ]
    }
   ],
   "source": [
    "from prophet import Prophet\n",
    "from sklearn.metrics import mean_absolute_error, mean_squared_error\n",
    "\n",
    "def mape(y_true, y_pred):\n",
    "    y_true, y_pred = np.asarray(y_true), np.asarray(y_pred)\n",
    "    mask = y_true != 0\n",
    "    return (np.abs((y_true[mask] - y_pred[mask]) / y_true[mask]).mean()) * 100\n",
    "\n",
    "m_base = Prophet(\n",
    "    daily_seasonality=False,\n",
    "    weekly_seasonality=True,\n",
    "    yearly_seasonality=True,\n",
    "    changepoint_prior_scale=0.2,\n",
    ")\n",
    "m_base.fit(df_train[[\"ds\",\"y\"]])\n",
    "\n",
    "fcst_test = m_base.predict(df_test[[\"ds\"]])\n",
    "pred = fcst_test[\"yhat\"].to_numpy()\n",
    "\n",
    "metrics_prophet = {\n",
    "    \"MAE\":  mean_absolute_error(df_test[\"y\"], pred),\n",
    "    \"RMSE\": mean_squared_error(df_test[\"y\"], pred, squared=False),\n",
    "    \"MAPE\": mape(df_test[\"y\"], pred),\n",
    "}\n",
    "metrics_prophet\n"
   ]
  },
  {
   "cell_type": "code",
   "execution_count": null,
   "id": "b7b0c3d0",
   "metadata": {},
   "outputs": [],
   "source": [
    "import matplotlib.pyplot as plt\n",
    "\n",
    "# Test window plot\n",
    "plt.figure(figsize=(12,5))\n",
    "plt.plot(df_test[\"ds\"], df_test[\"y\"], label=\"Test (actual)\", alpha=0.8)\n",
    "plt.plot(df_test[\"ds\"], pred, label=\"Prophet\", linewidth=2)\n",
    "plt.title(\"Prophet — test window\")\n",
    "plt.legend(); plt.show()\n",
    "\n",
    "# Future forecast H days ahead\n",
    "future_all = m_base.make_future_dataframe(periods=H, freq=\"D\")\n",
    "fcst_all = m_base.predict(future_all)\n",
    "future = fcst_all.tail(H).set_index(\"ds\")[[\"yhat\",\"yhat_lower\",\"yhat_upper\"]]\n",
    "\n",
    "plt.figure(figsize=(12,5))\n",
    "plt.plot(df_all[\"ds\"], df_all[\"y\"], label=\"History\", alpha=0.6)\n",
    "plt.plot(future.index, future[\"yhat\"], label=f\"Prophet future {H}d\", linewidth=2)\n",
    "plt.fill_between(future.index, future[\"yhat_lower\"], future[\"yhat_upper\"], alpha=0.2)\n",
    "plt.xlim(df_all[\"ds\"].iloc[-180], future.index[-1])\n",
    "plt.title(\"Prophet future forecast (zoomed on end)\")\n",
    "plt.legend(); plt.show()\n",
    "\n",
    "# Save for the app\n",
    "future[[\"yhat\"]].rename(columns={\"yhat\":\"forecast\"}).to_csv(\"../data/forecast_prophet.csv\")\n",
    "future.head()\n"
   ]
  }
 ],
 "metadata": {
  "kernelspec": {
   "display_name": "Python (.venv pollution-311)",
   "language": "python",
   "name": "pollution-311"
  },
  "language_info": {
   "codemirror_mode": {
    "name": "ipython",
    "version": 3
   },
   "file_extension": ".py",
   "mimetype": "text/x-python",
   "name": "python",
   "nbconvert_exporter": "python",
   "pygments_lexer": "ipython3",
   "version": "3.11.0"
  }
 },
 "nbformat": 4,
 "nbformat_minor": 5
}
